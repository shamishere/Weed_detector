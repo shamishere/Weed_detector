{
  "cells": [
    {
      "cell_type": "code",
      "execution_count": 4,
      "metadata": {
        "id": "VEm5mox4hpWT"
      },
      "outputs": [],
      "source": [
        "import os\n",
        "import cv2\n",
        "from sklearn.model_selection import train_test_split\n",
        "import numpy as np"
      ]
    },
    {
      "cell_type": "code",
      "execution_count": 5,
      "metadata": {
        "colab": {
          "base_uri": "https://localhost:8080/"
        },
        "id": "T0hD7peOjQ8b",
        "outputId": "4b1d0c7e-657a-41d3-e647-52706e03fa52"
      },
      "outputs": [
        {
          "output_type": "stream",
          "name": "stdout",
          "text": [
            "Drive already mounted at /content/drive; to attempt to forcibly remount, call drive.mount(\"/content/drive\", force_remount=True).\n"
          ]
        }
      ],
      "source": [
        "from google.colab import drive\n",
        "drive.mount(\"/content/drive\")"
      ]
    },
    {
      "cell_type": "code",
      "execution_count": 6,
      "metadata": {
        "colab": {
          "base_uri": "https://localhost:8080/"
        },
        "id": "p-i4AYZisf-n",
        "outputId": "b337dffd-8eee-4035-c2f0-54566aa63058"
      },
      "outputs": [
        {
          "output_type": "stream",
          "name": "stdout",
          "text": [
            "'1000 redspot physics-1.pdf'\n",
            " 4574-2.jpg\n",
            " 4574-2.png\n",
            "'All the Lectures'\n",
            " Anwar_Shameen_CV.pdf\n",
            "'Biodiversity grading.gform'\n",
            "'Biodiversity grading (Responses).gsheet'\n",
            "'biodiversity oht 1.gform'\n",
            "'Biodiversity quiz 3.gform'\n",
            "\"Biodiversity's lab exam.gform\"\n",
            "'Biodiversity'\\''s lab exam (Responses).gsheet'\n",
            "\"Biodiversity's lectures.gform\"\n",
            "\"biodiversity's second quiz.gform\"\n",
            "'Bioinformatics class.gform'\n",
            " biology\n",
            "\"Biophysics' presentation.gform\"\n",
            "'Biostatics class.gform'\n",
            "'biostatics .gform'\n",
            "'Biotechnology debate groups.gsheet'\n",
            "'Cell biology presentation groups.gsheet'\n",
            " chemistry\n",
            "'CIS assignment.gform'\n",
            "\"CIS blog assignment's groups.gsheet\"\n",
            " Code_ERa_nbk.gdoc\n",
            "'Colab Notebooks'\n",
            " COVID-19.gform\n",
            " data1.cab\n",
            " data1.hdr\n",
            "'Defence classes.gform'\n",
            "'Defense_UG FYP Grp 3 (1).pptx'\n",
            "'Defense_UG FYP Grp 3.pptx'\n",
            "'Feedback Form.gform'\n",
            "'File nghe MP3 bài tập HSK 1.7z'\n",
            "'General genetics finals.gform'\n",
            "'General genetics groups.gsheet'\n",
            "\"General genetic's quiz timing.gform\"\n",
            "'General genetics quiz timing.gform'\n",
            "'Genetics Quiz (3rd).gform'\n",
            "'GG: Reading sequences lecture timing.gform'\n",
            "'GG weekly quiz timings.gform'\n",
            "'How to get started with Drive.pdf'\n",
            "'Ielts Books.rar'\n",
            " IMG-20201122-WA0067.jpg\n",
            " IMG_20210623_123652_430.jpg\n",
            " IMG_20220503_140237_394.jpg\n",
            " _INST32I.EX_\n",
            "'Internet issues.gform'\n",
            "'Internet issues (Responses).gsheet'\n",
            "'In Vitro Meat, future or not?.gform'\n",
            " _ISDel.exe\n",
            " Journal.gdoc\n",
            "'MATH102 – Lecture 10 – Linear Equation and Hyperbola.docx'\n",
            "'MATH102_Lecture 9_Transcribed.docx'\n",
            " meeting-87198930014.ics\n",
            "'Mistreatment of stray animals in Twin cities.gform'\n",
            "'Mock exam.gform'\n",
            "'NBIOS certificates.gform'\n",
            "'NBIOS certificates (Responses).gsheet'\n",
            "'NBIOS recruitment form.gform'\n",
            "'NBIOS recruitment form (Responses).gsheet'\n",
            "'orientation guest list.gsheet'\n",
            "'Physical Therapy Camp.gform'\n",
            " powerpoint2016_managingslides_practice.pptx\n",
            " powerpoint2016_presenting_practice.pptx\n",
            "'Professional Ethics Class (1).gform'\n",
            "'Professional Ethics Class.gform'\n",
            "'Reading material, molecular motors.pdf'\n",
            "'Reading sequences.gform'\n",
            "'Schedule (1).gsheet'\n",
            " Schedule.gform\n",
            " Schedule.gsheet\n",
            "'semester 1- active learning.gsheet'\n",
            " _Setup.dll\n",
            " Setup.exe\n",
            " SETUP.INI\n",
            " setup.ins\n",
            " setup.lid\n",
            "'Shameen 3'\n",
            "'Shameen Anwar_CV.pdf'\n",
            " _sys1.cab\n",
            " _sys1.hdr\n",
            "'task c.pptx'\n",
            "'TASK D.pptx'\n",
            "'TASK F.pptx'\n",
            "'TASK G.pptx'\n",
            "'TASK REAL G.pptx'\n",
            "'Team Photoshoot.gform'\n",
            "'Team Photoshoot (Responses).gsheet'\n",
            "'Technical Writing.gform'\n",
            "'TEST no 1: P1 (Energy).gform'\n",
            " timetable.gform\n",
            "\"Toxicology's OHT.gform\"\n",
            "'Untitled document (1).gdoc'\n",
            "'Untitled document.gdoc'\n",
            "'Untitled form (1).gform'\n",
            "'Untitled form (2).gform'\n",
            "'Untitled form (3).gform'\n",
            "'Untitled form.gform'\n",
            " _user1.cab\n",
            " _user1.hdr\n",
            " VID-20200210-WA0007.mp4\n",
            " VID-20200214-WA0044.mp4\n",
            " VID-20200219-WA0024.mp4\n",
            " VID-20200220-WA0009.mp4\n",
            " VID-20200220-WA0018.mp4\n",
            " VID-20200224-WA0009.mp4\n",
            " VID-20200306-WA0040.mp4\n",
            " VID-20200306-WA0042.mp4\n",
            " VID-20200306-WA0043.mp4\n",
            " VID-20200306-WA0048.mp4\n",
            " VID-20200306-WA0049.mp4\n",
            " VID-20200306-WA0050.mp4\n",
            " VID-20200306-WA0051.mp4\n",
            " VID-20200306-WA0052.mp4\n",
            " VID-20200306-WA0080.mp4\n",
            " VID-20200306-WA0081.mp4\n",
            " VID-20200306-WA0082.mp4\n",
            " VID-20200607-WA0014.mp4\n",
            " VID-20200612-WA0006.mp4\n",
            " VID-20200617-WA0083.mp4\n",
            " VID-20200617-WA0084.mp4\n",
            " VID-20200617-WA0085.mp4\n",
            " VID-20200617-WA0086.mp4\n",
            " VID-20200618-WA0000.mp4\n",
            " VID-20200618-WA0009.mp4\n",
            " VID-20200618-WA0013.mp4\n",
            " VID-20200625-WA0023.mp4\n",
            " VID-20200625-WA0026.mp4\n",
            " VID-20200625-WA0034.mp4\n",
            " VID-20200625-WA0035.mp4\n",
            " VID-20200625-WA0036.mp4\n",
            " VID-20200625-WA0042.mp4\n",
            "'Voting for GR.gform'\n",
            "'Voting for leader.gform'\n",
            " weed\n",
            "'Zuheir Foz - Unit 6 Major: Energy Applications - Column chart 1.gsheet'\n"
          ]
        }
      ],
      "source": [
        "!ls \"/content/drive/My Drive/\""
      ]
    },
    {
      "cell_type": "code",
      "source": [
        "import pathlib\n",
        "\n",
        "amaranthus_path = pathlib.Path('/content/drive/MyDrive/weed/amaranthus_viridai/amaranthus_viridai')\n",
        "\n",
        "# Count files with .jpg and .jpeg extensions\n",
        "jpg_files = list(amaranthus_path.glob('*.jpg'))\n",
        "jpeg_files = list(amaranthus_path.glob('*.jpeg'))\n",
        "png_files = list(amaranthus_path.glob('*.png'))\n",
        "webp_files = list(amaranthus_path.glob('*.webp'))  # Convert generator to list\n",
        "count = len(jpg_files) + len(jpeg_files) + len(png_files) + len(webp_files)\n",
        "\n",
        "print(f\"Total: {count}\")"
      ],
      "metadata": {
        "colab": {
          "base_uri": "https://localhost:8080/"
        },
        "id": "01ikwepH4dO9",
        "outputId": "f57ba2c4-6389-4807-9791-205cc3ea7be9"
      },
      "execution_count": 7,
      "outputs": [
        {
          "output_type": "stream",
          "name": "stdout",
          "text": [
            "Total: 400\n"
          ]
        }
      ]
    },
    {
      "cell_type": "code",
      "execution_count": 8,
      "metadata": {
        "id": "xnCLdPYWqrfh"
      },
      "outputs": [],
      "source": [
        "amaranthus_folder = '/content/drive/MyDrive/weed/amaranthus_viridai/amaranthus_viridai'\n",
        "anagallis_folder = '/content/drive/MyDrive/weed/anagallis_arvensis/anagallis_arvensis'\n",
        "asphodelus_folder = '/content/drive/MyDrive/weed/asphodelus_tenuifolius/asphodelus_tenuifolius'\n"
      ]
    },
    {
      "cell_type": "code",
      "execution_count": 9,
      "metadata": {
        "colab": {
          "base_uri": "https://localhost:8080/"
        },
        "id": "5u_rdEtGqrcY",
        "outputId": "6d0c2f62-7e1a-4c0d-9653-b83f27389a27"
      },
      "outputs": [
        {
          "output_type": "stream",
          "name": "stdout",
          "text": [
            "Total: 411\n"
          ]
        }
      ],
      "source": [
        "import pathlib\n",
        "anagallis_path = pathlib.Path(anagallis_folder)\n",
        "jpg_files = list(anagallis_path.glob('*.jpg'))\n",
        "png_files = list(amaranthus_path.glob('*.png'))\n",
        "jpeg_files = list(anagallis_path.glob('*.jpeg'))\n",
        "webp_files = list(amaranthus_path.glob('*.webp'))  # Convert generator to list\n",
        "count = len(jpg_files) + len(jpeg_files) + len(png_files) + len(webp_files)\n",
        "\n",
        "print(f\"Total: {count}\")"
      ]
    },
    {
      "cell_type": "code",
      "execution_count": 10,
      "metadata": {
        "colab": {
          "base_uri": "https://localhost:8080/"
        },
        "id": "Bmw8R0I1woXi",
        "outputId": "87a405e7-3de4-498a-e349-a0c555c3d73d"
      },
      "outputs": [
        {
          "output_type": "stream",
          "name": "stdout",
          "text": [
            "Total: 402\n"
          ]
        }
      ],
      "source": [
        "import pathlib\n",
        "asphodelus_path = pathlib.Path(asphodelus_folder)\n",
        "jpg_files = list(asphodelus_path.glob('*.jpg'))\n",
        "png_files = list(amaranthus_path.glob('*.png'))\n",
        "jpeg_files = list(asphodelus_path.glob('*.jpeg'))\n",
        "webp_files = list(amaranthus_path.glob('*.webp'))  # Convert generator to list\n",
        "count = len(jpg_files) + len(jpeg_files) + len(png_files) + len(webp_files)\n",
        "\n",
        "print(f\"Total: {count}\")"
      ]
    },
    {
      "cell_type": "code",
      "execution_count": 11,
      "metadata": {
        "id": "S90iaN9iqrRm"
      },
      "outputs": [],
      "source": [
        "# Function to load images and labels from a folder\n",
        "def load_images_and_labels(folder_path, label):\n",
        "  images = []\n",
        "  labels = []\n",
        "  for filename in os.listdir(folder_path):\n",
        "    img_path = os.path.join(folder_path, filename)\n",
        "    if img_path.endswith(\".jpg\") or img_path.endswith(\".jpeg\"):\n",
        "      img = cv2.imread(img_path)\n",
        "      img = cv2.resize(img, (125, 125)) # Resize image to (125, 125)\n",
        "      images.append(img)\n",
        "      labels.append(label)\n",
        "  return images, labels\n"
      ]
    },
    {
      "cell_type": "code",
      "execution_count": 12,
      "metadata": {
        "id": "7M2MQebSr3Fx"
      },
      "outputs": [],
      "source": [
        "# Load images and labels for each weed type\n",
        "anagallis_images, anagallis_labels = load_images_and_labels(anagallis_folder, 0) # Label 0 for anagallis\n",
        "asphodelus_images, asphodelus_labels = load_images_and_labels(asphodelus_folder, 1) # Label 1 for asphodelus\n",
        "amaranthus_images, amaranthus_labels = load_images_and_labels(amaranthus_folder, 2) # Label 2 for amaranthus"
      ]
    },
    {
      "cell_type": "code",
      "execution_count": 13,
      "metadata": {
        "id": "teKk4GMXr3CW"
      },
      "outputs": [],
      "source": [
        "# Combine all images and labels\n",
        "all_images = anagallis_images + asphodelus_images + amaranthus_images\n",
        "all_labels = anagallis_labels + asphodelus_labels + amaranthus_labels\n"
      ]
    },
    {
      "cell_type": "code",
      "execution_count": 14,
      "metadata": {
        "id": "eEHCmDwEr2_Z"
      },
      "outputs": [],
      "source": [
        "# Convert lists to numpy arrays\n",
        "x = np.array(all_images)\n",
        "y = np.array(all_labels)"
      ]
    },
    {
      "cell_type": "code",
      "execution_count": 15,
      "metadata": {
        "colab": {
          "base_uri": "https://localhost:8080/"
        },
        "id": "F4AeqwVI-1Yt",
        "outputId": "0a2aa571-7d5b-480e-deb5-66a5c54f3470"
      },
      "outputs": [
        {
          "output_type": "stream",
          "name": "stdout",
          "text": [
            "(1204, 125, 125, 3)\n",
            "(1204,)\n"
          ]
        }
      ],
      "source": [
        "# Normalize pixel values to range [0, 1]\n",
        "x = x / 255.0\n",
        "print(x.shape)\n",
        "print(y.shape)\n",
        "# Split the data into training and testing sets\n",
        "x_train, x_test, y_train, y_test = train_test_split(\n",
        "x, y, test_size=0.2, shuffle=True, random_state=42)\n"
      ]
    },
    {
      "cell_type": "code",
      "execution_count": 16,
      "metadata": {
        "id": "Dcsxi9DT-5WG"
      },
      "outputs": [],
      "source": [
        "from keras import Sequential\n",
        "from keras.utils import to_categorical\n",
        "from tensorflow.keras.layers import Conv2D, MaxPooling2D, Flatten, Dense, Dropout\n",
        "from keras.optimizers import Adam\n",
        "from keras.losses import BinaryCrossentropy\n",
        "from tensorflow.keras import datasets, layers, models"
      ]
    },
    {
      "cell_type": "code",
      "execution_count": 17,
      "metadata": {
        "colab": {
          "base_uri": "https://localhost:8080/"
        },
        "id": "eSAGZniK_Iwr",
        "outputId": "43fcb87f-2cb0-4350-aeaa-b8545e8f16bb"
      },
      "outputs": [
        {
          "output_type": "stream",
          "name": "stdout",
          "text": [
            "Shape of y_train: (963, 3)\n",
            "Shape of y_test: (241, 3)\n"
          ]
        }
      ],
      "source": [
        "# Convert labels to one-hot encoded vectors\n",
        "y_train = to_categorical(y_train, num_classes=3) # 3 classes (anagallis, asphodelus, amaranthus)\n",
        "y_test = to_categorical(y_test, num_classes=3)\n",
        "\n",
        "# Check the shape of y_train and y_test again\n",
        "print(f\"Shape of y_train: {y_train.shape}\")\n",
        "print(f\"Shape of y_test: {y_test.shape}\")"
      ]
    },
    {
      "cell_type": "code",
      "execution_count": 18,
      "metadata": {
        "id": "qRkL6EAr_U9S"
      },
      "outputs": [],
      "source": [
        "# Model architecture with dropout\n",
        "model = Sequential()\n",
        "model.add(Conv2D(32, (3, 3), activation='relu', input_shape=(125, 125, 3)))\n",
        "model.add(MaxPooling2D((2, 2)))\n",
        "model.add(Conv2D(64, (3, 3), activation='relu'))\n",
        "model.add(MaxPooling2D((2, 2)))\n",
        "model.add(Conv2D(128, (3, 3), activation='relu'))\n",
        "model.add(MaxPooling2D((2, 2)))\n",
        "model.add(Flatten())\n",
        "model.add(Dense(256, activation='relu'))\n",
        "model.add(Dropout(0.5))\n",
        "model.add(Dense(3, activation='softmax'))"
      ]
    },
    {
      "cell_type": "code",
      "execution_count": 19,
      "metadata": {
        "colab": {
          "base_uri": "https://localhost:8080/"
        },
        "id": "WRMhi2wO_ZAq",
        "outputId": "628b61cb-dbe5-4a67-f538-637e787fc327"
      },
      "outputs": [
        {
          "output_type": "stream",
          "name": "stdout",
          "text": [
            "Model: \"sequential\"\n",
            "_________________________________________________________________\n",
            " Layer (type)                Output Shape              Param #   \n",
            "=================================================================\n",
            " conv2d (Conv2D)             (None, 123, 123, 32)      896       \n",
            "                                                                 \n",
            " max_pooling2d (MaxPooling2  (None, 61, 61, 32)        0         \n",
            " D)                                                              \n",
            "                                                                 \n",
            " conv2d_1 (Conv2D)           (None, 59, 59, 64)        18496     \n",
            "                                                                 \n",
            " max_pooling2d_1 (MaxPoolin  (None, 29, 29, 64)        0         \n",
            " g2D)                                                            \n",
            "                                                                 \n",
            " conv2d_2 (Conv2D)           (None, 27, 27, 128)       73856     \n",
            "                                                                 \n",
            " max_pooling2d_2 (MaxPoolin  (None, 13, 13, 128)       0         \n",
            " g2D)                                                            \n",
            "                                                                 \n",
            " flatten (Flatten)           (None, 21632)             0         \n",
            "                                                                 \n",
            " dense (Dense)               (None, 256)               5538048   \n",
            "                                                                 \n",
            " dropout (Dropout)           (None, 256)               0         \n",
            "                                                                 \n",
            " dense_1 (Dense)             (None, 3)                 771       \n",
            "                                                                 \n",
            "=================================================================\n",
            "Total params: 5632067 (21.48 MB)\n",
            "Trainable params: 5632067 (21.48 MB)\n",
            "Non-trainable params: 0 (0.00 Byte)\n",
            "_________________________________________________________________\n"
          ]
        }
      ],
      "source": [
        "model.summary()"
      ]
    },
    {
      "cell_type": "code",
      "execution_count": 20,
      "metadata": {
        "colab": {
          "base_uri": "https://localhost:8080/"
        },
        "id": "XErnHdTg_Y9W",
        "outputId": "596fd972-0758-4e58-8b80-dba655a38667"
      },
      "outputs": [
        {
          "output_type": "stream",
          "name": "stdout",
          "text": [
            "Epoch 1/20\n",
            "31/31 [==============================] - 6s 48ms/step - loss: 1.0761 - accuracy: 0.4777 - val_loss: 1.1792 - val_accuracy: 0.3900\n",
            "Epoch 2/20\n",
            "31/31 [==============================] - 1s 19ms/step - loss: 0.8660 - accuracy: 0.6199 - val_loss: 0.6665 - val_accuracy: 0.7220\n",
            "Epoch 3/20\n",
            "31/31 [==============================] - 1s 23ms/step - loss: 0.7985 - accuracy: 0.6781 - val_loss: 0.6410 - val_accuracy: 0.7386\n",
            "Epoch 4/20\n",
            "31/31 [==============================] - 1s 26ms/step - loss: 0.7489 - accuracy: 0.6895 - val_loss: 0.6046 - val_accuracy: 0.7676\n",
            "Epoch 5/20\n",
            "31/31 [==============================] - 1s 25ms/step - loss: 0.6034 - accuracy: 0.7612 - val_loss: 0.5722 - val_accuracy: 0.8008\n",
            "Epoch 6/20\n",
            "31/31 [==============================] - 1s 22ms/step - loss: 0.5310 - accuracy: 0.8110 - val_loss: 0.5450 - val_accuracy: 0.8133\n",
            "Epoch 7/20\n",
            "31/31 [==============================] - 1s 24ms/step - loss: 0.4793 - accuracy: 0.8172 - val_loss: 0.5870 - val_accuracy: 0.7593\n",
            "Epoch 8/20\n",
            "31/31 [==============================] - 1s 23ms/step - loss: 0.4523 - accuracy: 0.8339 - val_loss: 0.4916 - val_accuracy: 0.8216\n",
            "Epoch 9/20\n",
            "31/31 [==============================] - 1s 22ms/step - loss: 0.3792 - accuracy: 0.8577 - val_loss: 0.6968 - val_accuracy: 0.8050\n",
            "Epoch 10/20\n",
            "31/31 [==============================] - 1s 22ms/step - loss: 0.4210 - accuracy: 0.8422 - val_loss: 0.4524 - val_accuracy: 0.8216\n",
            "Epoch 11/20\n",
            "31/31 [==============================] - 1s 20ms/step - loss: 0.3505 - accuracy: 0.8775 - val_loss: 0.5711 - val_accuracy: 0.8091\n",
            "Epoch 12/20\n",
            "31/31 [==============================] - 1s 20ms/step - loss: 0.3201 - accuracy: 0.8858 - val_loss: 0.4620 - val_accuracy: 0.8465\n",
            "Epoch 13/20\n",
            "31/31 [==============================] - 1s 19ms/step - loss: 0.2417 - accuracy: 0.9148 - val_loss: 0.5303 - val_accuracy: 0.8340\n",
            "Epoch 14/20\n",
            "31/31 [==============================] - 1s 20ms/step - loss: 0.1915 - accuracy: 0.9408 - val_loss: 0.4598 - val_accuracy: 0.8631\n",
            "Epoch 15/20\n",
            "31/31 [==============================] - 1s 20ms/step - loss: 0.1786 - accuracy: 0.9408 - val_loss: 0.5486 - val_accuracy: 0.8548\n",
            "Epoch 16/20\n",
            "31/31 [==============================] - 1s 20ms/step - loss: 0.1478 - accuracy: 0.9439 - val_loss: 0.4955 - val_accuracy: 0.8589\n",
            "Epoch 17/20\n",
            "31/31 [==============================] - 1s 20ms/step - loss: 0.1100 - accuracy: 0.9688 - val_loss: 0.5500 - val_accuracy: 0.8548\n",
            "Epoch 18/20\n",
            "31/31 [==============================] - 1s 20ms/step - loss: 0.1092 - accuracy: 0.9678 - val_loss: 0.6556 - val_accuracy: 0.8506\n",
            "Epoch 19/20\n",
            "31/31 [==============================] - 1s 20ms/step - loss: 0.0924 - accuracy: 0.9699 - val_loss: 0.6206 - val_accuracy: 0.8382\n",
            "Epoch 20/20\n",
            "31/31 [==============================] - 1s 20ms/step - loss: 0.1099 - accuracy: 0.9605 - val_loss: 0.6489 - val_accuracy: 0.8423\n"
          ]
        }
      ],
      "source": [
        "from keras.losses import CategoricalCrossentropy\n",
        "# Compile the model\n",
        "model.compile(optimizer=Adam(learning_rate=0.001), loss=CategoricalCrossentropy(), metrics=['accuracy'])\n",
        "# Train the model\n",
        "history = model.fit(x_train, y_train, epochs=20, validation_data=(x_test, y_test))"
      ]
    },
    {
      "cell_type": "code",
      "execution_count": 21,
      "metadata": {
        "colab": {
          "base_uri": "https://localhost:8080/"
        },
        "id": "7mIVZxRp_Y6p",
        "outputId": "8292a4f1-bed0-4960-9442-21b21f31b813"
      },
      "outputs": [
        {
          "output_type": "stream",
          "name": "stdout",
          "text": [
            "8/8 [==============================] - 0s 9ms/step - loss: 0.6489 - accuracy: 0.8423\n",
            "Test accuracy: 0.8423236608505249\n"
          ]
        }
      ],
      "source": [
        "# Evaluate the model on the test set\n",
        "test_loss, test_acc = model.evaluate(x_test, y_test)\n",
        "print('Test accuracy:', test_acc)\n"
      ]
    },
    {
      "cell_type": "code",
      "execution_count": 22,
      "metadata": {
        "colab": {
          "base_uri": "https://localhost:8080/",
          "height": 735
        },
        "id": "-1i2SaAODk8F",
        "outputId": "9d7af23a-60fa-46a3-cf22-34a5ba802cc7"
      },
      "outputs": [
        {
          "output_type": "stream",
          "name": "stdout",
          "text": [
            "8/8 [==============================] - 0s 7ms/step\n"
          ]
        },
        {
          "output_type": "display_data",
          "data": {
            "text/plain": [
              "<Figure size 800x800 with 1 Axes>"
            ],
            "image/png": "[encoded data removed]"
          },
          "metadata": {}
        }
      ],
      "source": [
        "# Plot confusion matrix\n",
        "from sklearn.metrics import confusion_matrix\n",
        "import matplotlib.pyplot as plt\n",
        "import seaborn as sns\n",
        "y_pred = model.predict(x_test)\n",
        "y_pred_classes = np.argmax(y_pred, axis=1)\n",
        "y_true = np.argmax(y_test, axis=1)\n",
        "confusion_mtx = confusion_matrix(y_true, y_pred_classes)\n",
        "plt.figure(figsize=(8, 8))\n",
        "sns.heatmap(confusion_mtx, annot=True, fmt='.1f', cmap='Blues', cbar=False)\n",
        "plt.xlabel('Predicted Labels')\n",
        "plt.ylabel('True Labels')\n",
        "plt.title('Confusion Matrix')\n",
        "plt.show()"
      ]
    },
    {
      "cell_type": "code",
      "execution_count": 23,
      "metadata": {
        "colab": {
          "base_uri": "https://localhost:8080/",
          "height": 472
        },
        "id": "O6pnJ14YD0Om",
        "outputId": "ea11d93a-38cf-4b8f-c397-93399fc0598f"
      },
      "outputs": [
        {
          "output_type": "display_data",
          "data": {
            "text/plain": [
              "<Figure size 640x480 with 1 Axes>"
            ],
            "image/png": "[encoded data removed]"
          },
          "metadata": {}
        }
      ],
      "source": [
        "import matplotlib.pyplot as plt\n",
        "# Plot training and validation accuracy\n",
        "plt.plot(history.history['accuracy'], label='Training Accuracy')\n",
        "plt.plot(history.history['val_accuracy'], label='Validation Accuracy')\n",
        "plt.xlabel('Epoch')\n",
        "plt.ylabel('Accuracy')\n",
        "plt.title('Training and Validation Accuracy')\n",
        "plt.legend()\n",
        "plt.show()"
      ]
    },
    {
      "cell_type": "code",
      "source": [
        "import tensorflow as tf"
      ],
      "metadata": {
        "id": "OgKaQ9Ir6bhv"
      },
      "execution_count": 24,
      "outputs": []
    },
    {
      "cell_type": "code",
      "source": [
        "tf.keras.models.save_model(model,'my_model.hdf5')"
      ],
      "metadata": {
        "colab": {
          "base_uri": "https://localhost:8080/"
        },
        "id": "sYKizFH46KE-",
        "outputId": "2422c2e7-1ff8-4c12-c418-ec50a0161a10"
      },
      "execution_count": 25,
      "outputs": [
        {
          "output_type": "stream",
          "name": "stderr",
          "text": [
            "<ipython-input-25-5ffa4cf24db1>:1: UserWarning: You are saving your model as an HDF5 file via `model.save()`. This file format is considered legacy. We recommend using instead the native Keras format, e.g. `model.save('my_model.keras')`.\n",
            "  tf.keras.models.save_model(model,'my_model.hdf5')\n"
          ]
        }
      ]
    },
    {
      "cell_type": "markdown",
      "metadata": {
        "id": "wGpOdFyMHN4C"
      },
      "source": [
        "Shallow Network"
      ]
    },
    {
      "cell_type": "code",
      "execution_count": 26,
      "metadata": {
        "colab": {
          "base_uri": "https://localhost:8080/"
        },
        "id": "y7G7O0N3Edqe",
        "outputId": "2c6707a2-2d1b-4573-c357-4f8f94faff2f"
      },
      "outputs": [
        {
          "output_type": "stream",
          "name": "stdout",
          "text": [
            "Epoch 1/20\n",
            "31/31 [==============================] - 5s 28ms/step - loss: 0.6736 - val_loss: 0.6590\n",
            "Epoch 2/20\n",
            "31/31 [==============================] - 0s 14ms/step - loss: 0.6611 - val_loss: 0.6571\n",
            "Epoch 3/20\n",
            "31/31 [==============================] - 0s 14ms/step - loss: 0.6578 - val_loss: 0.6509\n",
            "Epoch 4/20\n",
            "31/31 [==============================] - 0s 14ms/step - loss: 0.6536 - val_loss: 0.6513\n",
            "Epoch 5/20\n",
            "31/31 [==============================] - 1s 16ms/step - loss: 0.6528 - val_loss: 0.6482\n",
            "Epoch 6/20\n",
            "31/31 [==============================] - 0s 14ms/step - loss: 0.6489 - val_loss: 0.6445\n",
            "Epoch 7/20\n",
            "31/31 [==============================] - 0s 13ms/step - loss: 0.6472 - val_loss: 0.6464\n",
            "Epoch 8/20\n",
            "31/31 [==============================] - 0s 14ms/step - loss: 0.6460 - val_loss: 0.6440\n",
            "Epoch 9/20\n",
            "31/31 [==============================] - 0s 13ms/step - loss: 0.6451 - val_loss: 0.6438\n",
            "Epoch 10/20\n",
            "31/31 [==============================] - 0s 13ms/step - loss: 0.6462 - val_loss: 0.6487\n",
            "Epoch 11/20\n",
            "31/31 [==============================] - 0s 13ms/step - loss: 0.6455 - val_loss: 0.6461\n",
            "Epoch 12/20\n",
            "31/31 [==============================] - 0s 14ms/step - loss: 0.6445 - val_loss: 0.6424\n",
            "Epoch 13/20\n",
            "31/31 [==============================] - 0s 14ms/step - loss: 0.6422 - val_loss: 0.6439\n",
            "Epoch 14/20\n",
            "31/31 [==============================] - 0s 13ms/step - loss: 0.6440 - val_loss: 0.6424\n",
            "Epoch 15/20\n",
            "31/31 [==============================] - 0s 14ms/step - loss: 0.6411 - val_loss: 0.6425\n",
            "Epoch 16/20\n",
            "31/31 [==============================] - 0s 13ms/step - loss: 0.6406 - val_loss: 0.6433\n",
            "Epoch 17/20\n",
            "31/31 [==============================] - 0s 16ms/step - loss: 0.6402 - val_loss: 0.6429\n",
            "Epoch 18/20\n",
            "31/31 [==============================] - 0s 13ms/step - loss: 0.6401 - val_loss: 0.6450\n",
            "Epoch 19/20\n",
            "31/31 [==============================] - 0s 13ms/step - loss: 0.6399 - val_loss: 0.6427\n",
            "Epoch 20/20\n",
            "31/31 [==============================] - 0s 14ms/step - loss: 0.6395 - val_loss: 0.6425\n"
          ]
        }
      ],
      "source": [
        "from keras.models import Model\n",
        "from keras.layers import Input, Dense, Flatten, Reshape\n",
        "\n",
        "# Define input layer\n",
        "input_img = Input(shape=(125, 125, 3))\n",
        "\n",
        "# Flatten the input image\n",
        "flat_img = Flatten()(input_img)\n",
        "\n",
        "# Encoder\n",
        "encoded = Dense(64, activation='relu')(flat_img)\n",
        "\n",
        "# Decoder\n",
        "decoded = Dense(125*125*3, activation='sigmoid')(encoded)\n",
        "\n",
        "# Reshape the decoded output\n",
        "decoded_img = Reshape((125, 125, 3))(decoded)\n",
        "\n",
        "# Create autoencoder model\n",
        "autoencoder = Model(input_img, decoded_img)\n",
        "\n",
        "# Compile the model\n",
        "autoencoder.compile(optimizer='adam', loss='binary_crossentropy')\n",
        "\n",
        "# Train the model\n",
        "history = autoencoder.fit(x_train, x_train, epochs=20, batch_size=32, validation_data=(x_test, x_test))\n"
      ]
    },
    {
      "cell_type": "code",
      "execution_count": 27,
      "metadata": {
        "colab": {
          "base_uri": "https://localhost:8080/"
        },
        "id": "aSzL6tTyHYRf",
        "outputId": "56006c27-64d3-4f9d-9f0c-7939532e0bc3"
      },
      "outputs": [
        {
          "output_type": "stream",
          "name": "stdout",
          "text": [
            "8/8 [==============================] - 0s 7ms/step - loss: 0.6425\n"
          ]
        },
        {
          "output_type": "execute_result",
          "data": {
            "text/plain": [
              "0.6425107717514038"
            ]
          },
          "metadata": {},
          "execution_count": 27
        }
      ],
      "source": [
        "#evaluate model\n",
        "autoencoder.evaluate(x_test, x_test)"
      ]
    },
    {
      "cell_type": "markdown",
      "metadata": {
        "id": "B-ZREhsBHITI"
      },
      "source": [
        "Deep Network"
      ]
    },
    {
      "cell_type": "code",
      "execution_count": 28,
      "metadata": {
        "colab": {
          "base_uri": "https://localhost:8080/"
        },
        "id": "Azo_CVzAHHBn",
        "outputId": "7e83ea59-00f2-43f7-f19b-5e03dd697661"
      },
      "outputs": [
        {
          "output_type": "stream",
          "name": "stdout",
          "text": [
            "Epoch 1/20\n",
            "31/31 [==============================] - 3s 34ms/step - loss: 0.6724 - val_loss: 0.6720\n",
            "Epoch 2/20\n",
            "31/31 [==============================] - 1s 19ms/step - loss: 0.6625 - val_loss: 0.6531\n",
            "Epoch 3/20\n",
            "31/31 [==============================] - 1s 18ms/step - loss: 0.6558 - val_loss: 0.6534\n",
            "Epoch 4/20\n",
            "31/31 [==============================] - 1s 24ms/step - loss: 0.6524 - val_loss: 0.6489\n",
            "Epoch 5/20\n",
            "31/31 [==============================] - 1s 25ms/step - loss: 0.6528 - val_loss: 0.6531\n",
            "Epoch 6/20\n",
            "31/31 [==============================] - 1s 24ms/step - loss: 0.6479 - val_loss: 0.6447\n",
            "Epoch 7/20\n",
            "31/31 [==============================] - 1s 22ms/step - loss: 0.6449 - val_loss: 0.6436\n",
            "Epoch 8/20\n",
            "31/31 [==============================] - 1s 23ms/step - loss: 0.6426 - val_loss: 0.6476\n",
            "Epoch 9/20\n",
            "31/31 [==============================] - 1s 23ms/step - loss: 0.6428 - val_loss: 0.6422\n",
            "Epoch 10/20\n",
            "31/31 [==============================] - 1s 23ms/step - loss: 0.6404 - val_loss: 0.6372\n",
            "Epoch 11/20\n",
            "31/31 [==============================] - 1s 23ms/step - loss: 0.6381 - val_loss: 0.6420\n",
            "Epoch 12/20\n",
            "31/31 [==============================] - 1s 18ms/step - loss: 0.6399 - val_loss: 0.6399\n",
            "Epoch 13/20\n",
            "31/31 [==============================] - 1s 18ms/step - loss: 0.6369 - val_loss: 0.6407\n",
            "Epoch 14/20\n",
            "31/31 [==============================] - 1s 18ms/step - loss: 0.6383 - val_loss: 0.6421\n",
            "Epoch 15/20\n",
            "31/31 [==============================] - 1s 18ms/step - loss: 0.6342 - val_loss: 0.6322\n",
            "Epoch 16/20\n",
            "31/31 [==============================] - 1s 18ms/step - loss: 0.6320 - val_loss: 0.6344\n",
            "Epoch 17/20\n",
            "31/31 [==============================] - 1s 18ms/step - loss: 0.6309 - val_loss: 0.6307\n",
            "Epoch 18/20\n",
            "31/31 [==============================] - 1s 19ms/step - loss: 0.6295 - val_loss: 0.6342\n",
            "Epoch 19/20\n",
            "31/31 [==============================] - 1s 19ms/step - loss: 0.6303 - val_loss: 0.6349\n",
            "Epoch 20/20\n",
            "31/31 [==============================] - 1s 19ms/step - loss: 0.6293 - val_loss: 0.6289\n"
          ]
        }
      ],
      "source": [
        "from keras.models import Model\n",
        "from keras.layers import Input, Dense, Flatten, Reshape\n",
        "\n",
        "# Define input layer\n",
        "input_img = Input(shape=(125, 125, 3))\n",
        "\n",
        "# Encoder\n",
        "encoded = Flatten()(input_img)\n",
        "encoded = Dense(256, activation='relu')(encoded)\n",
        "encoded = Dense(128, activation='relu')(encoded)\n",
        "encoded = Dense(64, activation='relu')(encoded)\n",
        "\n",
        "# Decoder\n",
        "decoded = Dense(128, activation='relu')(encoded)\n",
        "decoded = Dense(256, activation='relu')(decoded)\n",
        "decoded = Dense(125*125*3, activation='sigmoid')(decoded)\n",
        "\n",
        "# Reshape the decoded output\n",
        "decoded_img = Reshape((125, 125, 3))(decoded)\n",
        "\n",
        "# Create autoencoder model\n",
        "autoencoder = Model(input_img, decoded_img)\n",
        "\n",
        "# Compile the model\n",
        "autoencoder.compile(optimizer='adam', loss='binary_crossentropy')\n",
        "\n",
        "# Train the model\n",
        "history = autoencoder.fit(x_train, x_train, epochs=20, batch_size=32, validation_data=(x_test, x_test))\n"
      ]
    },
    {
      "cell_type": "code",
      "execution_count": 29,
      "metadata": {
        "colab": {
          "base_uri": "https://localhost:8080/"
        },
        "id": "T5spU-doJS2b",
        "outputId": "f38db7f5-d7cd-45c6-a9f4-986b6a8a41db"
      },
      "outputs": [
        {
          "output_type": "stream",
          "name": "stdout",
          "text": [
            "8/8 [==============================] - 0s 8ms/step - loss: 0.6289\n"
          ]
        },
        {
          "output_type": "execute_result",
          "data": {
            "text/plain": [
              "0.6289268732070923"
            ]
          },
          "metadata": {},
          "execution_count": 29
        }
      ],
      "source": [
        "#evaluate model\n",
        "autoencoder.evaluate(x_test, x_test)"
      ]
    },
    {
      "cell_type": "code",
      "source": [
        "!pip install streamlit"
      ],
      "metadata": {
        "colab": {
          "base_uri": "https://localhost:8080/"
        },
        "id": "yyx0lJCE6s8-",
        "outputId": "8503a9fb-b5f3-491e-ecad-4ae38c260b3e"
      },
      "execution_count": 30,
      "outputs": [
        {
          "output_type": "stream",
          "name": "stdout",
          "text": [
            "Requirement already satisfied: streamlit in /usr/local/lib/python3.10/dist-packages (1.34.0)\n",
            "Requirement already satisfied: altair<6,>=4.0 in /usr/local/lib/python3.10/dist-packages (from streamlit) (4.2.2)\n",
            "Requirement already satisfied: blinker<2,>=1.0.0 in /usr/lib/python3/dist-packages (from streamlit) (1.4)\n",
            "Requirement already satisfied: cachetools<6,>=4.0 in /usr/local/lib/python3.10/dist-packages (from streamlit) (5.3.3)\n",
            "Requirement already satisfied: click<9,>=7.0 in /usr/local/lib/python3.10/dist-packages (from streamlit) (8.1.7)\n",
            "Requirement already satisfied: numpy<2,>=1.19.3 in /usr/local/lib/python3.10/dist-packages (from streamlit) (1.25.2)\n",
            "Requirement already satisfied: packaging<25,>=16.8 in /usr/local/lib/python3.10/dist-packages (from streamlit) (24.0)\n",
            "Requirement already satisfied: pandas<3,>=1.3.0 in /usr/local/lib/python3.10/dist-packages (from streamlit) (2.0.3)\n",
            "Requirement already satisfied: pillow<11,>=7.1.0 in /usr/local/lib/python3.10/dist-packages (from streamlit) (9.4.0)\n",
            "Requirement already satisfied: protobuf<5,>=3.20 in /usr/local/lib/python3.10/dist-packages (from streamlit) (3.20.3)\n",
            "Requirement already satisfied: pyarrow>=7.0 in /usr/local/lib/python3.10/dist-packages (from streamlit) (14.0.2)\n",
            "Requirement already satisfied: requests<3,>=2.27 in /usr/local/lib/python3.10/dist-packages (from streamlit) (2.31.0)\n",
            "Requirement already satisfied: rich<14,>=10.14.0 in /usr/local/lib/python3.10/dist-packages (from streamlit) (13.7.1)\n",
            "Requirement already satisfied: tenacity<9,>=8.1.0 in /usr/local/lib/python3.10/dist-packages (from streamlit) (8.2.3)\n",
            "Requirement already satisfied: toml<2,>=0.10.1 in /usr/local/lib/python3.10/dist-packages (from streamlit) (0.10.2)\n",
            "Requirement already satisfied: typing-extensions<5,>=4.3.0 in /usr/local/lib/python3.10/dist-packages (from streamlit) (4.11.0)\n",
            "Requirement already satisfied: gitpython!=3.1.19,<4,>=3.0.7 in /usr/local/lib/python3.10/dist-packages (from streamlit) (3.1.43)\n",
            "Requirement already satisfied: pydeck<1,>=0.8.0b4 in /usr/local/lib/python3.10/dist-packages (from streamlit) (0.9.0)\n",
            "Requirement already satisfied: tornado<7,>=6.0.3 in /usr/local/lib/python3.10/dist-packages (from streamlit) (6.3.3)\n",
            "Requirement already satisfied: watchdog>=2.1.5 in /usr/local/lib/python3.10/dist-packages (from streamlit) (4.0.0)\n",
            "Requirement already satisfied: entrypoints in /usr/local/lib/python3.10/dist-packages (from altair<6,>=4.0->streamlit) (0.4)\n",
            "Requirement already satisfied: jinja2 in /usr/local/lib/python3.10/dist-packages (from altair<6,>=4.0->streamlit) (3.1.3)\n",
            "Requirement already satisfied: jsonschema>=3.0 in /usr/local/lib/python3.10/dist-packages (from altair<6,>=4.0->streamlit) (4.19.2)\n",
            "Requirement already satisfied: toolz in /usr/local/lib/python3.10/dist-packages (from altair<6,>=4.0->streamlit) (0.12.1)\n",
            "Requirement already satisfied: gitdb<5,>=4.0.1 in /usr/local/lib/python3.10/dist-packages (from gitpython!=3.1.19,<4,>=3.0.7->streamlit) (4.0.11)\n",
            "Requirement already satisfied: python-dateutil>=2.8.2 in /usr/local/lib/python3.10/dist-packages (from pandas<3,>=1.3.0->streamlit) (2.8.2)\n",
            "Requirement already satisfied: pytz>=2020.1 in /usr/local/lib/python3.10/dist-packages (from pandas<3,>=1.3.0->streamlit) (2023.4)\n",
            "Requirement already satisfied: tzdata>=2022.1 in /usr/local/lib/python3.10/dist-packages (from pandas<3,>=1.3.0->streamlit) (2024.1)\n",
            "Requirement already satisfied: charset-normalizer<4,>=2 in /usr/local/lib/python3.10/dist-packages (from requests<3,>=2.27->streamlit) (3.3.2)\n",
            "Requirement already satisfied: idna<4,>=2.5 in /usr/local/lib/python3.10/dist-packages (from requests<3,>=2.27->streamlit) (3.7)\n",
            "Requirement already satisfied: urllib3<3,>=1.21.1 in /usr/local/lib/python3.10/dist-packages (from requests<3,>=2.27->streamlit) (2.0.7)\n",
            "Requirement already satisfied: certifi>=2017.4.17 in /usr/local/lib/python3.10/dist-packages (from requests<3,>=2.27->streamlit) (2024.2.2)\n",
            "Requirement already satisfied: markdown-it-py>=2.2.0 in /usr/local/lib/python3.10/dist-packages (from rich<14,>=10.14.0->streamlit) (3.0.0)\n",
            "Requirement already satisfied: pygments<3.0.0,>=2.13.0 in /usr/local/lib/python3.10/dist-packages (from rich<14,>=10.14.0->streamlit) (2.16.1)\n",
            "Requirement already satisfied: smmap<6,>=3.0.1 in /usr/local/lib/python3.10/dist-packages (from gitdb<5,>=4.0.1->gitpython!=3.1.19,<4,>=3.0.7->streamlit) (5.0.1)\n",
            "Requirement already satisfied: MarkupSafe>=2.0 in /usr/local/lib/python3.10/dist-packages (from jinja2->altair<6,>=4.0->streamlit) (2.1.5)\n",
            "Requirement already satisfied: attrs>=22.2.0 in /usr/local/lib/python3.10/dist-packages (from jsonschema>=3.0->altair<6,>=4.0->streamlit) (23.2.0)\n",
            "Requirement already satisfied: jsonschema-specifications>=2023.03.6 in /usr/local/lib/python3.10/dist-packages (from jsonschema>=3.0->altair<6,>=4.0->streamlit) (2023.12.1)\n",
            "Requirement already satisfied: referencing>=0.28.4 in /usr/local/lib/python3.10/dist-packages (from jsonschema>=3.0->altair<6,>=4.0->streamlit) (0.35.1)\n",
            "Requirement already satisfied: rpds-py>=0.7.1 in /usr/local/lib/python3.10/dist-packages (from jsonschema>=3.0->altair<6,>=4.0->streamlit) (0.18.0)\n",
            "Requirement already satisfied: mdurl~=0.1 in /usr/local/lib/python3.10/dist-packages (from markdown-it-py>=2.2.0->rich<14,>=10.14.0->streamlit) (0.1.2)\n",
            "Requirement already satisfied: six>=1.5 in /usr/local/lib/python3.10/dist-packages (from python-dateutil>=2.8.2->pandas<3,>=1.3.0->streamlit) (1.16.0)\n"
          ]
        }
      ]
    },
    {
      "cell_type": "code",
      "source": [
        "%%writefile app.py\n",
        "import streamlit as st\n",
        "import tensorflow as tf\n",
        "\n",
        "st.set_option('deprecation.showfileUploaderEncoding', False)\n",
        "\n",
        "@st.cache(allow_output_mutation = True)\n",
        "def load_model():\n",
        "    model = tf.keras.models.load_model(\"/content/my_model.hdf5\")\n",
        "    return model\n",
        "model = load_model()\n",
        "st.title('Weed Detection App')\n",
        "st.write(\"This app detects the common weed found in the Wheat fields of Pakistan.\")\n",
        "\n",
        "st.selectbox('Select Your Province', [\"Punjab\",\"Sindh\",\"Balochistan\", \"KPK\", \"Azad Jammu and Kashmir\", \"Gilgit-Baltistan\"])\n",
        "st.camera_input(\"Please take the image of the field.\")\n",
        "st.write(\"or\")\n",
        "file = st.file_uploader('Upload the image of the field', type=['jpg','png','jpeg'])\n",
        "\n",
        "import cv2\n",
        "import PIL\n",
        "from PIL import Image, ImageOps\n",
        "import numpy as np\n",
        "def import_and_predict(image_data, model):\n",
        "    size = (125, 125)\n",
        "    image = ImageOps.fit(image_data, size, Image.ANTIALIAS)\n",
        "    img = np.asarray(image)\n",
        "    img_reshape = img[np.newaxis, ...]\n",
        "    prediction = model.predict(img_reshape)\n",
        "\n",
        "    return prediction\n",
        "\n",
        "if file is None:\n",
        "    st.text(\"Pleas upload an image file\")\n",
        "else:\n",
        "    image = Image.open(file)\n",
        "    st.image(image, use_column_width = True)\n",
        "    predictions = import_and_predict(image, model)\n",
        "    class_name = ['Amaranthus viridian', 'Anagallius arvensis', 'Asphodelus tenuifolias']\n",
        "    string = 'This image most likely is: '+class_name[np.argmax(predictions)]\n",
        "    st.success(string)\n"
      ],
      "metadata": {
        "colab": {
          "base_uri": "https://localhost:8080/"
        },
        "id": "mSw7ZL-C6ywf",
        "outputId": "cbfb82f9-9333-41eb-a42b-fe0935bf9f2c"
      },
      "execution_count": 76,
      "outputs": [
        {
          "output_type": "stream",
          "name": "stdout",
          "text": [
            "Overwriting app.py\n"
          ]
        }
      ]
    },
    {
      "cell_type": "code",
      "source": [
        "import urllib\n",
        "print(\"Password/Enpoint IP for localtunnel is:\",urllib.request.urlopen('https://ipv4.icanhazip.com').read().decode('utf8').strip(\"\\n\"))"
      ],
      "metadata": {
        "colab": {
          "base_uri": "https://localhost:8080/"
        },
        "id": "Egzl8VU1CPPu",
        "outputId": "a5537cce-1b74-4dcd-8fc3-323620a465c8"
      },
      "execution_count": 77,
      "outputs": [
        {
          "output_type": "stream",
          "name": "stdout",
          "text": [
            "Password/Enpoint IP for localtunnel is: 34.31.25.74\n"
          ]
        }
      ]
    },
    {
      "cell_type": "code",
      "source": [
        "!npm install localtunnel"
      ],
      "metadata": {
        "colab": {
          "base_uri": "https://localhost:8080/"
        },
        "id": "6rTG7l7bBkZI",
        "outputId": "24f46d34-c5a9-44a4-a2b1-31ce30e96111"
      },
      "execution_count": 78,
      "outputs": [
        {
          "output_type": "stream",
          "name": "stdout",
          "text": [
            "\u001b[K\u001b[?25h\u001b[37;40mnpm\u001b[0m \u001b[0m\u001b[30;43mWARN\u001b[0m \u001b[0m\u001b[35msaveError\u001b[0m ENOENT: no such file or directory, open '/content/package.json'\n",
            "\u001b[0m\u001b[37;40mnpm\u001b[0m \u001b[0m\u001b[30;43mWARN\u001b[0m \u001b[0m\u001b[35menoent\u001b[0m ENOENT: no such file or directory, open '/content/package.json'\n",
            "\u001b[0m\u001b[37;40mnpm\u001b[0m \u001b[0m\u001b[30;43mWARN\u001b[0m\u001b[35m\u001b[0m content No description\n",
            "\u001b[0m\u001b[37;40mnpm\u001b[0m \u001b[0m\u001b[30;43mWARN\u001b[0m\u001b[35m\u001b[0m content No repository field.\n",
            "\u001b[0m\u001b[37;40mnpm\u001b[0m \u001b[0m\u001b[30;43mWARN\u001b[0m\u001b[35m\u001b[0m content No README data\n",
            "\u001b[0m\u001b[37;40mnpm\u001b[0m \u001b[0m\u001b[30;43mWARN\u001b[0m\u001b[35m\u001b[0m content No license field.\n",
            "\u001b[0m\n",
            "\u001b[K\u001b[?25h+ localtunnel@2.0.2\n",
            "updated 1 package and audited 36 packages in 0.443s\n",
            "\n",
            "3 packages are looking for funding\n",
            "  run `npm fund` for details\n",
            "\n",
            "found 2 \u001b[93mmoderate\u001b[0m severity vulnerabilities\n",
            "  run `npm audit fix` to fix them, or `npm audit` for details\n"
          ]
        }
      ]
    },
    {
      "cell_type": "code",
      "source": [
        "!streamlit run app.py &>/content/logs.txt &"
      ],
      "metadata": {
        "id": "rgXRfDshB2vn"
      },
      "execution_count": 79,
      "outputs": []
    },
    {
      "cell_type": "code",
      "source": [
        "!npx localtunnel --port 8501"
      ],
      "metadata": {
        "colab": {
          "base_uri": "https://localhost:8080/"
        },
        "id": "W2z4KAkRB6yV",
        "outputId": "5c7d0587-c9d9-4a78-9a14-2ee2c2a823da"
      },
      "execution_count": null,
      "outputs": [
        {
          "output_type": "stream",
          "name": "stdout",
          "text": [
            "\u001b[K\u001b[?25hnpx: installed 22 in 2.064s\n",
            "your url is: https://red-terms-return.loca.lt\n"
          ]
        }
      ]
    },
    {
      "cell_type": "code",
      "source": [],
      "metadata": {
        "id": "lwqKPAREB8xK"
      },
      "execution_count": null,
      "outputs": []
    }
  ],
  "metadata": {
    "accelerator": "GPU",
    "colab": {
      "gpuType": "T4",
      "provenance": []
    },
    "kernelspec": {
      "display_name": "Python 3",
      "name": "python3"
    },
    "language_info": {
      "name": "python",
      "version": "3.11.5"
    }
  },
  "nbformat": 4,
  "nbformat_minor": 0
}